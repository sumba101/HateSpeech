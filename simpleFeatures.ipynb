{
 "cells": [
  {
   "cell_type": "code",
   "execution_count": 31,
   "metadata": {
    "collapsed": true
   },
   "outputs": [],
   "source": [
    "import string\n",
    "import pandas as pd\n",
    "df = pd.read_csv( \"fulldataset.csv\" ,sep=\";\")"
   ]
  },
  {
   "cell_type": "code",
   "execution_count": 32,
   "outputs": [
    {
     "data": {
      "text/plain": "                                        Comment_text  Hateful_or_not Platform\n0  this is disgusting and heartbreaking. they sho...               1  YouTube\n1  Fuck that cop. Nothing but a fucking thug. \\n\\...               1  YouTube\n2  Fucking piece of shit cops, protect and serve ...               1  YouTube\n3  Land of the free... My fucking ass. America is...               1  YouTube\n4             These fucking cops are out of control!               1  YouTube",
      "text/html": "<div>\n<style scoped>\n    .dataframe tbody tr th:only-of-type {\n        vertical-align: middle;\n    }\n\n    .dataframe tbody tr th {\n        vertical-align: top;\n    }\n\n    .dataframe thead th {\n        text-align: right;\n    }\n</style>\n<table border=\"1\" class=\"dataframe\">\n  <thead>\n    <tr style=\"text-align: right;\">\n      <th></th>\n      <th>Comment_text</th>\n      <th>Hateful_or_not</th>\n      <th>Platform</th>\n    </tr>\n  </thead>\n  <tbody>\n    <tr>\n      <th>0</th>\n      <td>this is disgusting and heartbreaking. they sho...</td>\n      <td>1</td>\n      <td>YouTube</td>\n    </tr>\n    <tr>\n      <th>1</th>\n      <td>Fuck that cop. Nothing but a fucking thug. \\n\\...</td>\n      <td>1</td>\n      <td>YouTube</td>\n    </tr>\n    <tr>\n      <th>2</th>\n      <td>Fucking piece of shit cops, protect and serve ...</td>\n      <td>1</td>\n      <td>YouTube</td>\n    </tr>\n    <tr>\n      <th>3</th>\n      <td>Land of the free... My fucking ass. America is...</td>\n      <td>1</td>\n      <td>YouTube</td>\n    </tr>\n    <tr>\n      <th>4</th>\n      <td>These fucking cops are out of control!</td>\n      <td>1</td>\n      <td>YouTube</td>\n    </tr>\n  </tbody>\n</table>\n</div>"
     },
     "execution_count": 32,
     "metadata": {},
     "output_type": "execute_result"
    }
   ],
   "source": [
    "df.head()"
   ],
   "metadata": {
    "collapsed": false,
    "pycharm": {
     "name": "#%%\n"
    }
   }
  },
  {
   "cell_type": "code",
   "execution_count": 37,
   "outputs": [],
   "source": [
    "def counts(sentence):\n",
    "    c=0\n",
    "    sentence=sentence.split()\n",
    "    for w in sentence:\n",
    "        if w.isalpha():\n",
    "            c+=1\n",
    "    return c\n",
    "\n",
    "def uppercaseCounts(sentence):\n",
    "    c=0\n",
    "    sentence=sentence.split()\n",
    "    for w in sentence:\n",
    "        if w.isalpha():\n",
    "            for char in w:\n",
    "                if char.isupper():\n",
    "                    c+=1\n",
    "    return c\n",
    "\n",
    "def upperAvg(sentence):\n",
    "    denom= counts(sentence)\n",
    "    if denom == 0:\n",
    "        return 0\n",
    "    return uppercaseCounts(sentence)/counts(sentence)\n",
    "\n",
    "def numbers(sentence):\n",
    "    c=0\n",
    "    sentence=sentence.split()\n",
    "    for w in sentence:\n",
    "        if w.isnumeric():\n",
    "            c+=1\n",
    "    return c\n",
    "\n",
    "def numbersAvg(sentence):\n",
    "    denom= counts(sentence)\n",
    "    if denom == 0:\n",
    "        return 0\n",
    "\n",
    "    return numbers(sentence)/counts(sentence)\n",
    "\n",
    "def punctuations(sentence):\n",
    "    c=0\n",
    "    for w in sentence:\n",
    "        if w in string.punctuation:\n",
    "            c+=1\n",
    "    return c\n",
    "\n",
    "def punctuationAvg(sentence):\n",
    "    denom= counts(sentence)\n",
    "    if denom == 0:\n",
    "        return 0\n",
    "    return punctuations(sentence)/counts(sentence)"
   ],
   "metadata": {
    "collapsed": false,
    "pycharm": {
     "name": "#%%\n"
    }
   }
  },
  {
   "cell_type": "code",
   "execution_count": 38,
   "outputs": [],
   "source": [
    "df[\"wordCount\"]=df[\"Comment_text\"].apply(counts)\n",
    "df[\"uppercaseCounts\"]=df[\"Comment_text\"].apply(uppercaseCounts)\n",
    "df[\"upperAvg\"]=df[\"Comment_text\"].apply(upperAvg)\n",
    "df[\"punctuations\"]=df[\"Comment_text\"].apply(punctuations)\n",
    "df[\"punctuationAvg\"]=df[\"Comment_text\"].apply(punctuationAvg)\n",
    "df[\"numbers\"]=df[\"Comment_text\"].apply(numbers)\n",
    "df[\"numbersAvg\"]=df[\"Comment_text\"].apply(numbersAvg)"
   ],
   "metadata": {
    "collapsed": false,
    "pycharm": {
     "name": "#%%\n"
    }
   }
  },
  {
   "cell_type": "code",
   "execution_count": 39,
   "outputs": [
    {
     "data": {
      "text/plain": "                                        Comment_text  Hateful_or_not Platform  \\\n0  this is disgusting and heartbreaking. they sho...               1  YouTube   \n1  Fuck that cop. Nothing but a fucking thug. \\n\\...               1  YouTube   \n2  Fucking piece of shit cops, protect and serve ...               1  YouTube   \n3  Land of the free... My fucking ass. America is...               1  YouTube   \n4             These fucking cops are out of control!               1  YouTube   \n\n   wordCount  uppercaseCounts  upperAvg  punctuations  punctuationAvg  \\\n0         65                0  0.000000            10        0.153846   \n1          8                3  0.375000             2        0.250000   \n2          9                1  0.111111             1        0.111111   \n3         39                3  0.076923             5        0.128205   \n4          6                1  0.166667             1        0.166667   \n\n   numbers  numbersAvg  \n0        1    0.015385  \n1        0    0.000000  \n2        0    0.000000  \n3        0    0.000000  \n4        0    0.000000  ",
      "text/html": "<div>\n<style scoped>\n    .dataframe tbody tr th:only-of-type {\n        vertical-align: middle;\n    }\n\n    .dataframe tbody tr th {\n        vertical-align: top;\n    }\n\n    .dataframe thead th {\n        text-align: right;\n    }\n</style>\n<table border=\"1\" class=\"dataframe\">\n  <thead>\n    <tr style=\"text-align: right;\">\n      <th></th>\n      <th>Comment_text</th>\n      <th>Hateful_or_not</th>\n      <th>Platform</th>\n      <th>wordCount</th>\n      <th>uppercaseCounts</th>\n      <th>upperAvg</th>\n      <th>punctuations</th>\n      <th>punctuationAvg</th>\n      <th>numbers</th>\n      <th>numbersAvg</th>\n    </tr>\n  </thead>\n  <tbody>\n    <tr>\n      <th>0</th>\n      <td>this is disgusting and heartbreaking. they sho...</td>\n      <td>1</td>\n      <td>YouTube</td>\n      <td>65</td>\n      <td>0</td>\n      <td>0.000000</td>\n      <td>10</td>\n      <td>0.153846</td>\n      <td>1</td>\n      <td>0.015385</td>\n    </tr>\n    <tr>\n      <th>1</th>\n      <td>Fuck that cop. Nothing but a fucking thug. \\n\\...</td>\n      <td>1</td>\n      <td>YouTube</td>\n      <td>8</td>\n      <td>3</td>\n      <td>0.375000</td>\n      <td>2</td>\n      <td>0.250000</td>\n      <td>0</td>\n      <td>0.000000</td>\n    </tr>\n    <tr>\n      <th>2</th>\n      <td>Fucking piece of shit cops, protect and serve ...</td>\n      <td>1</td>\n      <td>YouTube</td>\n      <td>9</td>\n      <td>1</td>\n      <td>0.111111</td>\n      <td>1</td>\n      <td>0.111111</td>\n      <td>0</td>\n      <td>0.000000</td>\n    </tr>\n    <tr>\n      <th>3</th>\n      <td>Land of the free... My fucking ass. America is...</td>\n      <td>1</td>\n      <td>YouTube</td>\n      <td>39</td>\n      <td>3</td>\n      <td>0.076923</td>\n      <td>5</td>\n      <td>0.128205</td>\n      <td>0</td>\n      <td>0.000000</td>\n    </tr>\n    <tr>\n      <th>4</th>\n      <td>These fucking cops are out of control!</td>\n      <td>1</td>\n      <td>YouTube</td>\n      <td>6</td>\n      <td>1</td>\n      <td>0.166667</td>\n      <td>1</td>\n      <td>0.166667</td>\n      <td>0</td>\n      <td>0.000000</td>\n    </tr>\n  </tbody>\n</table>\n</div>"
     },
     "execution_count": 39,
     "metadata": {},
     "output_type": "execute_result"
    }
   ],
   "source": [
    "df.head()\n"
   ],
   "metadata": {
    "collapsed": false,
    "pycharm": {
     "name": "#%%\n"
    }
   }
  },
  {
   "cell_type": "code",
   "execution_count": 40,
   "outputs": [],
   "source": [
    "df.to_csv(\"SimpleFeatures.csv\")\n"
   ],
   "metadata": {
    "collapsed": false,
    "pycharm": {
     "name": "#%%\n"
    }
   }
  },
  {
   "cell_type": "code",
   "execution_count": 1,
   "outputs": [],
   "source": [
    "import pandas as pd\n",
    "df = pd.read_csv( \"SimpleFeatures.csv\")\n",
    "y = df.Hateful_or_not\n",
    "copy=df.drop([\"Hateful_or_not\",\"Comment_text\",\"Platform\"],axis=1)"
   ],
   "metadata": {
    "collapsed": false,
    "pycharm": {
     "name": "#%%\n"
    }
   }
  },
  {
   "cell_type": "code",
   "execution_count": 2,
   "outputs": [
    {
     "data": {
      "text/plain": "0         1\n1         1\n2         1\n3         1\n4         1\n         ..\n197561    1\n197562    1\n197563    1\n197564    1\n197565    1\nName: Hateful_or_not, Length: 197566, dtype: int64"
     },
     "execution_count": 2,
     "metadata": {},
     "output_type": "execute_result"
    }
   ],
   "source": [
    "y"
   ],
   "metadata": {
    "collapsed": false,
    "pycharm": {
     "name": "#%%\n"
    }
   }
  },
  {
   "cell_type": "code",
   "execution_count": 3,
   "outputs": [
    {
     "data": {
      "text/plain": "        wordCount  uppercaseCounts  upperAvg  punctuations  punctuationAvg  \\\n0              65                0  0.000000            10        0.153846   \n1               8                3  0.375000             2        0.250000   \n2               9                1  0.111111             1        0.111111   \n3              39                3  0.076923             5        0.128205   \n4               6                1  0.166667             1        0.166667   \n...           ...              ...       ...           ...             ...   \n197561        269               22  0.081784            58        0.215613   \n197562          6               28  4.666667             0        0.000000   \n197563         52                5  0.096154             6        0.115385   \n197564         87               13  0.149425            30        0.344828   \n197565         33                0  0.000000             2        0.060606   \n\n        numbers  numbersAvg  \n0             1    0.015385  \n1             0    0.000000  \n2             0    0.000000  \n3             0    0.000000  \n4             0    0.000000  \n...         ...         ...  \n197561        0    0.000000  \n197562        0    0.000000  \n197563        0    0.000000  \n197564        0    0.000000  \n197565        0    0.000000  \n\n[197566 rows x 7 columns]",
      "text/html": "<div>\n<style scoped>\n    .dataframe tbody tr th:only-of-type {\n        vertical-align: middle;\n    }\n\n    .dataframe tbody tr th {\n        vertical-align: top;\n    }\n\n    .dataframe thead th {\n        text-align: right;\n    }\n</style>\n<table border=\"1\" class=\"dataframe\">\n  <thead>\n    <tr style=\"text-align: right;\">\n      <th></th>\n      <th>wordCount</th>\n      <th>uppercaseCounts</th>\n      <th>upperAvg</th>\n      <th>punctuations</th>\n      <th>punctuationAvg</th>\n      <th>numbers</th>\n      <th>numbersAvg</th>\n    </tr>\n  </thead>\n  <tbody>\n    <tr>\n      <th>0</th>\n      <td>65</td>\n      <td>0</td>\n      <td>0.000000</td>\n      <td>10</td>\n      <td>0.153846</td>\n      <td>1</td>\n      <td>0.015385</td>\n    </tr>\n    <tr>\n      <th>1</th>\n      <td>8</td>\n      <td>3</td>\n      <td>0.375000</td>\n      <td>2</td>\n      <td>0.250000</td>\n      <td>0</td>\n      <td>0.000000</td>\n    </tr>\n    <tr>\n      <th>2</th>\n      <td>9</td>\n      <td>1</td>\n      <td>0.111111</td>\n      <td>1</td>\n      <td>0.111111</td>\n      <td>0</td>\n      <td>0.000000</td>\n    </tr>\n    <tr>\n      <th>3</th>\n      <td>39</td>\n      <td>3</td>\n      <td>0.076923</td>\n      <td>5</td>\n      <td>0.128205</td>\n      <td>0</td>\n      <td>0.000000</td>\n    </tr>\n    <tr>\n      <th>4</th>\n      <td>6</td>\n      <td>1</td>\n      <td>0.166667</td>\n      <td>1</td>\n      <td>0.166667</td>\n      <td>0</td>\n      <td>0.000000</td>\n    </tr>\n    <tr>\n      <th>...</th>\n      <td>...</td>\n      <td>...</td>\n      <td>...</td>\n      <td>...</td>\n      <td>...</td>\n      <td>...</td>\n      <td>...</td>\n    </tr>\n    <tr>\n      <th>197561</th>\n      <td>269</td>\n      <td>22</td>\n      <td>0.081784</td>\n      <td>58</td>\n      <td>0.215613</td>\n      <td>0</td>\n      <td>0.000000</td>\n    </tr>\n    <tr>\n      <th>197562</th>\n      <td>6</td>\n      <td>28</td>\n      <td>4.666667</td>\n      <td>0</td>\n      <td>0.000000</td>\n      <td>0</td>\n      <td>0.000000</td>\n    </tr>\n    <tr>\n      <th>197563</th>\n      <td>52</td>\n      <td>5</td>\n      <td>0.096154</td>\n      <td>6</td>\n      <td>0.115385</td>\n      <td>0</td>\n      <td>0.000000</td>\n    </tr>\n    <tr>\n      <th>197564</th>\n      <td>87</td>\n      <td>13</td>\n      <td>0.149425</td>\n      <td>30</td>\n      <td>0.344828</td>\n      <td>0</td>\n      <td>0.000000</td>\n    </tr>\n    <tr>\n      <th>197565</th>\n      <td>33</td>\n      <td>0</td>\n      <td>0.000000</td>\n      <td>2</td>\n      <td>0.060606</td>\n      <td>0</td>\n      <td>0.000000</td>\n    </tr>\n  </tbody>\n</table>\n<p>197566 rows × 7 columns</p>\n</div>"
     },
     "execution_count": 3,
     "metadata": {},
     "output_type": "execute_result"
    }
   ],
   "source": [
    "copy\n"
   ],
   "metadata": {
    "collapsed": false,
    "pycharm": {
     "name": "#%%\n"
    }
   }
  },
  {
   "cell_type": "code",
   "execution_count": 4,
   "outputs": [],
   "source": [
    "from sklearn.metrics import confusion_matrix, classification_report\n",
    "from sklearn.model_selection import train_test_split\n",
    "from sklearn.naive_bayes import MultinomialNB\n",
    "from sklearn.svm import SVC\n",
    "\n",
    "X_train, X_test, y_train, y_test = train_test_split( copy, y, test_size=0.30 )\n",
    "svmClassifier = SVC(kernel='linear')\n"
   ],
   "metadata": {
    "collapsed": false,
    "pycharm": {
     "name": "#%%\n"
    }
   }
  },
  {
   "cell_type": "code",
   "execution_count": 5,
   "outputs": [
    {
     "data": {
      "text/plain": "        wordCount  uppercaseCounts  upperAvg  punctuations  punctuationAvg  \\\n116918         69                7  0.101449            20        0.289855   \n174544        114                8  0.070175            19        0.166667   \n182406         12               21  1.750000             0        0.000000   \n110194         36                5  0.138889             7        0.194444   \n107821         34                3  0.088235            11        0.323529   \n...           ...              ...       ...           ...             ...   \n60044          44                6  0.136364             8        0.181818   \n170415         28                6  0.214286            13        0.464286   \n176867          9               14  1.555556             2        0.222222   \n13335           8                1  0.125000            10        1.250000   \n129277         11                3  0.272727             4        0.363636   \n\n        numbers  numbersAvg  \n116918        0         0.0  \n174544        0         0.0  \n182406        0         0.0  \n110194        0         0.0  \n107821        0         0.0  \n...         ...         ...  \n60044         0         0.0  \n170415        0         0.0  \n176867        0         0.0  \n13335         0         0.0  \n129277        0         0.0  \n\n[138296 rows x 7 columns]",
      "text/html": "<div>\n<style scoped>\n    .dataframe tbody tr th:only-of-type {\n        vertical-align: middle;\n    }\n\n    .dataframe tbody tr th {\n        vertical-align: top;\n    }\n\n    .dataframe thead th {\n        text-align: right;\n    }\n</style>\n<table border=\"1\" class=\"dataframe\">\n  <thead>\n    <tr style=\"text-align: right;\">\n      <th></th>\n      <th>wordCount</th>\n      <th>uppercaseCounts</th>\n      <th>upperAvg</th>\n      <th>punctuations</th>\n      <th>punctuationAvg</th>\n      <th>numbers</th>\n      <th>numbersAvg</th>\n    </tr>\n  </thead>\n  <tbody>\n    <tr>\n      <th>116918</th>\n      <td>69</td>\n      <td>7</td>\n      <td>0.101449</td>\n      <td>20</td>\n      <td>0.289855</td>\n      <td>0</td>\n      <td>0.0</td>\n    </tr>\n    <tr>\n      <th>174544</th>\n      <td>114</td>\n      <td>8</td>\n      <td>0.070175</td>\n      <td>19</td>\n      <td>0.166667</td>\n      <td>0</td>\n      <td>0.0</td>\n    </tr>\n    <tr>\n      <th>182406</th>\n      <td>12</td>\n      <td>21</td>\n      <td>1.750000</td>\n      <td>0</td>\n      <td>0.000000</td>\n      <td>0</td>\n      <td>0.0</td>\n    </tr>\n    <tr>\n      <th>110194</th>\n      <td>36</td>\n      <td>5</td>\n      <td>0.138889</td>\n      <td>7</td>\n      <td>0.194444</td>\n      <td>0</td>\n      <td>0.0</td>\n    </tr>\n    <tr>\n      <th>107821</th>\n      <td>34</td>\n      <td>3</td>\n      <td>0.088235</td>\n      <td>11</td>\n      <td>0.323529</td>\n      <td>0</td>\n      <td>0.0</td>\n    </tr>\n    <tr>\n      <th>...</th>\n      <td>...</td>\n      <td>...</td>\n      <td>...</td>\n      <td>...</td>\n      <td>...</td>\n      <td>...</td>\n      <td>...</td>\n    </tr>\n    <tr>\n      <th>60044</th>\n      <td>44</td>\n      <td>6</td>\n      <td>0.136364</td>\n      <td>8</td>\n      <td>0.181818</td>\n      <td>0</td>\n      <td>0.0</td>\n    </tr>\n    <tr>\n      <th>170415</th>\n      <td>28</td>\n      <td>6</td>\n      <td>0.214286</td>\n      <td>13</td>\n      <td>0.464286</td>\n      <td>0</td>\n      <td>0.0</td>\n    </tr>\n    <tr>\n      <th>176867</th>\n      <td>9</td>\n      <td>14</td>\n      <td>1.555556</td>\n      <td>2</td>\n      <td>0.222222</td>\n      <td>0</td>\n      <td>0.0</td>\n    </tr>\n    <tr>\n      <th>13335</th>\n      <td>8</td>\n      <td>1</td>\n      <td>0.125000</td>\n      <td>10</td>\n      <td>1.250000</td>\n      <td>0</td>\n      <td>0.0</td>\n    </tr>\n    <tr>\n      <th>129277</th>\n      <td>11</td>\n      <td>3</td>\n      <td>0.272727</td>\n      <td>4</td>\n      <td>0.363636</td>\n      <td>0</td>\n      <td>0.0</td>\n    </tr>\n  </tbody>\n</table>\n<p>138296 rows × 7 columns</p>\n</div>"
     },
     "execution_count": 5,
     "metadata": {},
     "output_type": "execute_result"
    }
   ],
   "source": [
    "X_train\n"
   ],
   "metadata": {
    "collapsed": false,
    "pycharm": {
     "name": "#%%\n"
    }
   }
  },
  {
   "cell_type": "code",
   "execution_count": null,
   "outputs": [],
   "source": [],
   "metadata": {
    "collapsed": false,
    "pycharm": {
     "name": "#%%\n"
    }
   }
  }
 ],
 "metadata": {
  "kernelspec": {
   "display_name": "Python 3",
   "language": "python",
   "name": "python3"
  },
  "language_info": {
   "codemirror_mode": {
    "name": "ipython",
    "version": 2
   },
   "file_extension": ".py",
   "mimetype": "text/x-python",
   "name": "python",
   "nbconvert_exporter": "python",
   "pygments_lexer": "ipython2",
   "version": "2.7.6"
  }
 },
 "nbformat": 4,
 "nbformat_minor": 0
}