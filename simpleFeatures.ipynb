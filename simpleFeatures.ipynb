{
 "cells": [
  {
   "cell_type": "code",
   "execution_count": 31,
   "metadata": {
    "collapsed": true
   },
   "outputs": [],
   "source": [
    "import string\n",
    "import pandas as pd\n",
    "df = pd.read_csv( \"fulldataset.csv\" ,sep=\";\")"
   ]
  },
  {
   "cell_type": "code",
   "execution_count": 32,
   "outputs": [
    {
     "data": {
      "text/plain": "                                        Comment_text  Hateful_or_not Platform\n0  this is disgusting and heartbreaking. they sho...               1  YouTube\n1  Fuck that cop. Nothing but a fucking thug. \\n\\...               1  YouTube\n2  Fucking piece of shit cops, protect and serve ...               1  YouTube\n3  Land of the free... My fucking ass. America is...               1  YouTube\n4             These fucking cops are out of control!               1  YouTube",
      "text/html": "<div>\n<style scoped>\n    .dataframe tbody tr th:only-of-type {\n        vertical-align: middle;\n    }\n\n    .dataframe tbody tr th {\n        vertical-align: top;\n    }\n\n    .dataframe thead th {\n        text-align: right;\n    }\n</style>\n<table border=\"1\" class=\"dataframe\">\n  <thead>\n    <tr style=\"text-align: right;\">\n      <th></th>\n      <th>Comment_text</th>\n      <th>Hateful_or_not</th>\n      <th>Platform</th>\n    </tr>\n  </thead>\n  <tbody>\n    <tr>\n      <th>0</th>\n      <td>this is disgusting and heartbreaking. they sho...</td>\n      <td>1</td>\n      <td>YouTube</td>\n    </tr>\n    <tr>\n      <th>1</th>\n      <td>Fuck that cop. Nothing but a fucking thug. \\n\\...</td>\n      <td>1</td>\n      <td>YouTube</td>\n    </tr>\n    <tr>\n      <th>2</th>\n      <td>Fucking piece of shit cops, protect and serve ...</td>\n      <td>1</td>\n      <td>YouTube</td>\n    </tr>\n    <tr>\n      <th>3</th>\n      <td>Land of the free... My fucking ass. America is...</td>\n      <td>1</td>\n      <td>YouTube</td>\n    </tr>\n    <tr>\n      <th>4</th>\n      <td>These fucking cops are out of control!</td>\n      <td>1</td>\n      <td>YouTube</td>\n    </tr>\n  </tbody>\n</table>\n</div>"
     },
     "execution_count": 32,
     "metadata": {},
     "output_type": "execute_result"
    }
   ],
   "source": [
    "df.head()"
   ],
   "metadata": {
    "collapsed": false,
    "pycharm": {
     "name": "#%%\n"
    }
   }
  },
  {
   "cell_type": "code",
   "execution_count": 37,
   "outputs": [],
   "source": [
    "def counts(sentence):\n",
    "    c=0\n",
    "    sentence=sentence.split()\n",
    "    for w in sentence:\n",
    "        if w.isalpha():\n",
    "            c+=1\n",
    "    return c\n",
    "\n",
    "def uppercaseCounts(sentence):\n",
    "    c=0\n",
    "    sentence=sentence.split()\n",
    "    for w in sentence:\n",
    "        if w.isalpha():\n",
    "            for char in w:\n",
    "                if char.isupper():\n",
    "                    c+=1\n",
    "    return c\n",
    "\n",
    "def upperAvg(sentence):\n",
    "    denom= counts(sentence)\n",
    "    if denom == 0:\n",
    "        return 0\n",
    "    return uppercaseCounts(sentence)/counts(sentence)\n",
    "\n",
    "def numbers(sentence):\n",
    "    c=0\n",
    "    sentence=sentence.split()\n",
    "    for w in sentence:\n",
    "        if w.isnumeric():\n",
    "            c+=1\n",
    "    return c\n",
    "\n",
    "def numbersAvg(sentence):\n",
    "    denom= counts(sentence)\n",
    "    if denom == 0:\n",
    "        return 0\n",
    "\n",
    "    return numbers(sentence)/counts(sentence)\n",
    "\n",
    "def punctuations(sentence):\n",
    "    c=0\n",
    "    for w in sentence:\n",
    "        if w in string.punctuation:\n",
    "            c+=1\n",
    "    return c\n",
    "\n",
    "def punctuationAvg(sentence):\n",
    "    denom= counts(sentence)\n",
    "    if denom == 0:\n",
    "        return 0\n",
    "    return punctuations(sentence)/counts(sentence)"
   ],
   "metadata": {
    "collapsed": false,
    "pycharm": {
     "name": "#%%\n"
    }
   }
  },
  {
   "cell_type": "code",
   "execution_count": 38,
   "outputs": [],
   "source": [
    "df[\"wordCount\"]=df[\"Comment_text\"].apply(counts)\n",
    "df[\"uppercaseCounts\"]=df[\"Comment_text\"].apply(uppercaseCounts)\n",
    "df[\"upperAvg\"]=df[\"Comment_text\"].apply(upperAvg)\n",
    "df[\"punctuations\"]=df[\"Comment_text\"].apply(punctuations)\n",
    "df[\"punctuationAvg\"]=df[\"Comment_text\"].apply(punctuationAvg)\n",
    "df[\"numbers\"]=df[\"Comment_text\"].apply(numbers)\n",
    "df[\"numbersAvg\"]=df[\"Comment_text\"].apply(numbersAvg)"
   ],
   "metadata": {
    "collapsed": false,
    "pycharm": {
     "name": "#%%\n"
    }
   }
  },
  {
   "cell_type": "code",
   "execution_count": 39,
   "outputs": [
    {
     "data": {
      "text/plain": "                                        Comment_text  Hateful_or_not Platform  \\\n0  this is disgusting and heartbreaking. they sho...               1  YouTube   \n1  Fuck that cop. Nothing but a fucking thug. \\n\\...               1  YouTube   \n2  Fucking piece of shit cops, protect and serve ...               1  YouTube   \n3  Land of the free... My fucking ass. America is...               1  YouTube   \n4             These fucking cops are out of control!               1  YouTube   \n\n   wordCount  uppercaseCounts  upperAvg  punctuations  punctuationAvg  \\\n0         65                0  0.000000            10        0.153846   \n1          8                3  0.375000             2        0.250000   \n2          9                1  0.111111             1        0.111111   \n3         39                3  0.076923             5        0.128205   \n4          6                1  0.166667             1        0.166667   \n\n   numbers  numbersAvg  \n0        1    0.015385  \n1        0    0.000000  \n2        0    0.000000  \n3        0    0.000000  \n4        0    0.000000  ",
      "text/html": "<div>\n<style scoped>\n    .dataframe tbody tr th:only-of-type {\n        vertical-align: middle;\n    }\n\n    .dataframe tbody tr th {\n        vertical-align: top;\n    }\n\n    .dataframe thead th {\n        text-align: right;\n    }\n</style>\n<table border=\"1\" class=\"dataframe\">\n  <thead>\n    <tr style=\"text-align: right;\">\n      <th></th>\n      <th>Comment_text</th>\n      <th>Hateful_or_not</th>\n      <th>Platform</th>\n      <th>wordCount</th>\n      <th>uppercaseCounts</th>\n      <th>upperAvg</th>\n      <th>punctuations</th>\n      <th>punctuationAvg</th>\n      <th>numbers</th>\n      <th>numbersAvg</th>\n    </tr>\n  </thead>\n  <tbody>\n    <tr>\n      <th>0</th>\n      <td>this is disgusting and heartbreaking. they sho...</td>\n      <td>1</td>\n      <td>YouTube</td>\n      <td>65</td>\n      <td>0</td>\n      <td>0.000000</td>\n      <td>10</td>\n      <td>0.153846</td>\n      <td>1</td>\n      <td>0.015385</td>\n    </tr>\n    <tr>\n      <th>1</th>\n      <td>Fuck that cop. Nothing but a fucking thug. \\n\\...</td>\n      <td>1</td>\n      <td>YouTube</td>\n      <td>8</td>\n      <td>3</td>\n      <td>0.375000</td>\n      <td>2</td>\n      <td>0.250000</td>\n      <td>0</td>\n      <td>0.000000</td>\n    </tr>\n    <tr>\n      <th>2</th>\n      <td>Fucking piece of shit cops, protect and serve ...</td>\n      <td>1</td>\n      <td>YouTube</td>\n      <td>9</td>\n      <td>1</td>\n      <td>0.111111</td>\n      <td>1</td>\n      <td>0.111111</td>\n      <td>0</td>\n      <td>0.000000</td>\n    </tr>\n    <tr>\n      <th>3</th>\n      <td>Land of the free... My fucking ass. America is...</td>\n      <td>1</td>\n      <td>YouTube</td>\n      <td>39</td>\n      <td>3</td>\n      <td>0.076923</td>\n      <td>5</td>\n      <td>0.128205</td>\n      <td>0</td>\n      <td>0.000000</td>\n    </tr>\n    <tr>\n      <th>4</th>\n      <td>These fucking cops are out of control!</td>\n      <td>1</td>\n      <td>YouTube</td>\n      <td>6</td>\n      <td>1</td>\n      <td>0.166667</td>\n      <td>1</td>\n      <td>0.166667</td>\n      <td>0</td>\n      <td>0.000000</td>\n    </tr>\n  </tbody>\n</table>\n</div>"
     },
     "execution_count": 39,
     "metadata": {},
     "output_type": "execute_result"
    }
   ],
   "source": [
    "df.head()\n"
   ],
   "metadata": {
    "collapsed": false,
    "pycharm": {
     "name": "#%%\n"
    }
   }
  },
  {
   "cell_type": "code",
   "execution_count": null,
   "outputs": [],
   "source": [
    "df.to_csv(\"SimpleFeatures.csv\")\n"
   ],
   "metadata": {
    "collapsed": false,
    "pycharm": {
     "name": "#%%\n",
     "is_executing": true
    }
   }
  },
  {
   "cell_type": "code",
   "execution_count": null,
   "outputs": [],
   "source": [],
   "metadata": {
    "collapsed": false,
    "pycharm": {
     "name": "#%%\n"
    }
   }
  }
 ],
 "metadata": {
  "kernelspec": {
   "display_name": "Python 3",
   "language": "python",
   "name": "python3"
  },
  "language_info": {
   "codemirror_mode": {
    "name": "ipython",
    "version": 2
   },
   "file_extension": ".py",
   "mimetype": "text/x-python",
   "name": "python",
   "nbconvert_exporter": "python",
   "pygments_lexer": "ipython2",
   "version": "2.7.6"
  }
 },
 "nbformat": 4,
 "nbformat_minor": 0
}