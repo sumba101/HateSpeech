{
 "cells": [
  {
   "cell_type": "code",
   "execution_count": 31,
   "metadata": {
    "collapsed": true
   },
   "outputs": [],
   "source": [
    "import string\n",
    "import pandas as pd\n",
    "df = pd.read_csv( \"fulldataset.csv\" ,sep=\";\")"
   ]
  },
  {
   "cell_type": "code",
   "execution_count": 32,
   "outputs": [
    {
     "data": {
      "text/plain": "                                        Comment_text  Hateful_or_not Platform\n0  this is disgusting and heartbreaking. they sho...               1  YouTube\n1  Fuck that cop. Nothing but a fucking thug. \\n\\...               1  YouTube\n2  Fucking piece of shit cops, protect and serve ...               1  YouTube\n3  Land of the free... My fucking ass. America is...               1  YouTube\n4             These fucking cops are out of control!               1  YouTube",
      "text/html": "<div>\n<style scoped>\n    .dataframe tbody tr th:only-of-type {\n        vertical-align: middle;\n    }\n\n    .dataframe tbody tr th {\n        vertical-align: top;\n    }\n\n    .dataframe thead th {\n        text-align: right;\n    }\n</style>\n<table border=\"1\" class=\"dataframe\">\n  <thead>\n    <tr style=\"text-align: right;\">\n      <th></th>\n      <th>Comment_text</th>\n      <th>Hateful_or_not</th>\n      <th>Platform</th>\n    </tr>\n  </thead>\n  <tbody>\n    <tr>\n      <th>0</th>\n      <td>this is disgusting and heartbreaking. they sho...</td>\n      <td>1</td>\n      <td>YouTube</td>\n    </tr>\n    <tr>\n      <th>1</th>\n      <td>Fuck that cop. Nothing but a fucking thug. \\n\\...</td>\n      <td>1</td>\n      <td>YouTube</td>\n    </tr>\n    <tr>\n      <th>2</th>\n      <td>Fucking piece of shit cops, protect and serve ...</td>\n      <td>1</td>\n      <td>YouTube</td>\n    </tr>\n    <tr>\n      <th>3</th>\n      <td>Land of the free... My fucking ass. America is...</td>\n      <td>1</td>\n      <td>YouTube</td>\n    </tr>\n    <tr>\n      <th>4</th>\n      <td>These fucking cops are out of control!</td>\n      <td>1</td>\n      <td>YouTube</td>\n    </tr>\n  </tbody>\n</table>\n</div>"
     },
     "execution_count": 32,
     "metadata": {},
     "output_type": "execute_result"
    }
   ],
   "source": [
    "df.head()"
   ],
   "metadata": {
    "collapsed": false,
    "pycharm": {
     "name": "#%%\n"
    }
   }
  },
  {
   "cell_type": "code",
   "execution_count": 37,
   "outputs": [],
   "source": [
    "def counts(sentence):\n",
    "    c=0\n",
    "    sentence=sentence.split()\n",
    "    for w in sentence:\n",
    "        if w.isalpha():\n",
    "            c+=1\n",
    "    return c\n",
    "\n",
    "def uppercaseCounts(sentence):\n",
    "    c=0\n",
    "    sentence=sentence.split()\n",
    "    for w in sentence:\n",
    "        if w.isalpha():\n",
    "            for char in w:\n",
    "                if char.isupper():\n",
    "                    c+=1\n",
    "    return c\n",
    "\n",
    "def upperAvg(sentence):\n",
    "    denom= counts(sentence)\n",
    "    if denom == 0:\n",
    "        return 0\n",
    "    return uppercaseCounts(sentence)/counts(sentence)\n",
    "\n",
    "def numbers(sentence):\n",
    "    c=0\n",
    "    sentence=sentence.split()\n",
    "    for w in sentence:\n",
    "        if w.isnumeric():\n",
    "            c+=1\n",
    "    return c\n",
    "\n",
    "def numbersAvg(sentence):\n",
    "    denom= counts(sentence)\n",
    "    if denom == 0:\n",
    "        return 0\n",
    "\n",
    "    return numbers(sentence)/counts(sentence)\n",
    "\n",
    "def punctuations(sentence):\n",
    "    c=0\n",
    "    for w in sentence:\n",
    "        if w in string.punctuation:\n",
    "            c+=1\n",
    "    return c\n",
    "\n",
    "def punctuationAvg(sentence):\n",
    "    denom= counts(sentence)\n",
    "    if denom == 0:\n",
    "        return 0\n",
    "    return punctuations(sentence)/counts(sentence)"
   ],
   "metadata": {
    "collapsed": false,
    "pycharm": {
     "name": "#%%\n"
    }
   }
  },
  {
   "cell_type": "code",
   "execution_count": 38,
   "outputs": [],
   "source": [
    "df[\"wordCount\"]=df[\"Comment_text\"].apply(counts)\n",
    "df[\"uppercaseCounts\"]=df[\"Comment_text\"].apply(uppercaseCounts)\n",
    "df[\"upperAvg\"]=df[\"Comment_text\"].apply(upperAvg)\n",
    "df[\"punctuations\"]=df[\"Comment_text\"].apply(punctuations)\n",
    "df[\"punctuationAvg\"]=df[\"Comment_text\"].apply(punctuationAvg)\n",
    "df[\"numbers\"]=df[\"Comment_text\"].apply(numbers)\n",
    "df[\"numbersAvg\"]=df[\"Comment_text\"].apply(numbersAvg)"
   ],
   "metadata": {
    "collapsed": false,
    "pycharm": {
     "name": "#%%\n"
    }
   }
  },
  {
   "cell_type": "code",
   "execution_count": 39,
   "outputs": [
    {
     "data": {
      "text/plain": "                                        Comment_text  Hateful_or_not Platform  \\\n0  this is disgusting and heartbreaking. they sho...               1  YouTube   \n1  Fuck that cop. Nothing but a fucking thug. \\n\\...               1  YouTube   \n2  Fucking piece of shit cops, protect and serve ...               1  YouTube   \n3  Land of the free... My fucking ass. America is...               1  YouTube   \n4             These fucking cops are out of control!               1  YouTube   \n\n   wordCount  uppercaseCounts  upperAvg  punctuations  punctuationAvg  \\\n0         65                0  0.000000            10        0.153846   \n1          8                3  0.375000             2        0.250000   \n2          9                1  0.111111             1        0.111111   \n3         39                3  0.076923             5        0.128205   \n4          6                1  0.166667             1        0.166667   \n\n   numbers  numbersAvg  \n0        1    0.015385  \n1        0    0.000000  \n2        0    0.000000  \n3        0    0.000000  \n4        0    0.000000  ",
      "text/html": "<div>\n<style scoped>\n    .dataframe tbody tr th:only-of-type {\n        vertical-align: middle;\n    }\n\n    .dataframe tbody tr th {\n        vertical-align: top;\n    }\n\n    .dataframe thead th {\n        text-align: right;\n    }\n</style>\n<table border=\"1\" class=\"dataframe\">\n  <thead>\n    <tr style=\"text-align: right;\">\n      <th></th>\n      <th>Comment_text</th>\n      <th>Hateful_or_not</th>\n      <th>Platform</th>\n      <th>wordCount</th>\n      <th>uppercaseCounts</th>\n      <th>upperAvg</th>\n      <th>punctuations</th>\n      <th>punctuationAvg</th>\n      <th>numbers</th>\n      <th>numbersAvg</th>\n    </tr>\n  </thead>\n  <tbody>\n    <tr>\n      <th>0</th>\n      <td>this is disgusting and heartbreaking. they sho...</td>\n      <td>1</td>\n      <td>YouTube</td>\n      <td>65</td>\n      <td>0</td>\n      <td>0.000000</td>\n      <td>10</td>\n      <td>0.153846</td>\n      <td>1</td>\n      <td>0.015385</td>\n    </tr>\n    <tr>\n      <th>1</th>\n      <td>Fuck that cop. Nothing but a fucking thug. \\n\\...</td>\n      <td>1</td>\n      <td>YouTube</td>\n      <td>8</td>\n      <td>3</td>\n      <td>0.375000</td>\n      <td>2</td>\n      <td>0.250000</td>\n      <td>0</td>\n      <td>0.000000</td>\n    </tr>\n    <tr>\n      <th>2</th>\n      <td>Fucking piece of shit cops, protect and serve ...</td>\n      <td>1</td>\n      <td>YouTube</td>\n      <td>9</td>\n      <td>1</td>\n      <td>0.111111</td>\n      <td>1</td>\n      <td>0.111111</td>\n      <td>0</td>\n      <td>0.000000</td>\n    </tr>\n    <tr>\n      <th>3</th>\n      <td>Land of the free... My fucking ass. America is...</td>\n      <td>1</td>\n      <td>YouTube</td>\n      <td>39</td>\n      <td>3</td>\n      <td>0.076923</td>\n      <td>5</td>\n      <td>0.128205</td>\n      <td>0</td>\n      <td>0.000000</td>\n    </tr>\n    <tr>\n      <th>4</th>\n      <td>These fucking cops are out of control!</td>\n      <td>1</td>\n      <td>YouTube</td>\n      <td>6</td>\n      <td>1</td>\n      <td>0.166667</td>\n      <td>1</td>\n      <td>0.166667</td>\n      <td>0</td>\n      <td>0.000000</td>\n    </tr>\n  </tbody>\n</table>\n</div>"
     },
     "execution_count": 39,
     "metadata": {},
     "output_type": "execute_result"
    }
   ],
   "source": [
    "df.head()\n"
   ],
   "metadata": {
    "collapsed": false,
    "pycharm": {
     "name": "#%%\n"
    }
   }
  },
  {
   "cell_type": "code",
   "execution_count": 40,
   "outputs": [],
   "source": [
    "df.to_csv(\"SimpleFeatures.csv\")\n"
   ],
   "metadata": {
    "collapsed": false,
    "pycharm": {
     "name": "#%%\n"
    }
   }
  },
  {
   "cell_type": "code",
   "execution_count": 1,
   "outputs": [
    {
     "data": {
      "text/plain": "        Unnamed: 0                                       Comment_text  \\\n0                0  this is disgusting and heartbreaking. they sho...   \n1                1  Fuck that cop. Nothing but a fucking thug. \\n\\...   \n2                2  Fucking piece of shit cops, protect and serve ...   \n3                3  Land of the free... My fucking ass. America is...   \n4                4             These fucking cops are out of control!   \n...            ...                                                ...   \n197561      197561  \"\\n\\n our previous conversation \\n\\nyou fuckin...   \n197562      197562                  YOU ARE A MISCHIEVIOUS PUBIC HAIR   \n197563      197563  Your absurd edits \\n\\nYour absurd edits on gre...   \n197564      197564  \"\\n\\nHey listen don't you ever!!!! Delete my e...   \n197565      197565  and i'm going to keep posting the stuff u dele...   \n\n        Hateful_or_not   Platform  wordCount  uppercaseCounts  upperAvg  \\\n0                    1    YouTube         65                0  0.000000   \n1                    1    YouTube          8                3  0.375000   \n2                    1    YouTube          9                1  0.111111   \n3                    1    YouTube         39                3  0.076923   \n4                    1    YouTube          6                1  0.166667   \n...                ...        ...        ...              ...       ...   \n197561               1  Wikipedia        269               22  0.081784   \n197562               1  Wikipedia          6               28  4.666667   \n197563               1  Wikipedia         52                5  0.096154   \n197564               1  Wikipedia         87               13  0.149425   \n197565               1  Wikipedia         33                0  0.000000   \n\n        punctuations  punctuationAvg  numbers  numbersAvg  \n0                 10        0.153846        1    0.015385  \n1                  2        0.250000        0    0.000000  \n2                  1        0.111111        0    0.000000  \n3                  5        0.128205        0    0.000000  \n4                  1        0.166667        0    0.000000  \n...              ...             ...      ...         ...  \n197561            58        0.215613        0    0.000000  \n197562             0        0.000000        0    0.000000  \n197563             6        0.115385        0    0.000000  \n197564            30        0.344828        0    0.000000  \n197565             2        0.060606        0    0.000000  \n\n[197566 rows x 11 columns]",
      "text/html": "<div>\n<style scoped>\n    .dataframe tbody tr th:only-of-type {\n        vertical-align: middle;\n    }\n\n    .dataframe tbody tr th {\n        vertical-align: top;\n    }\n\n    .dataframe thead th {\n        text-align: right;\n    }\n</style>\n<table border=\"1\" class=\"dataframe\">\n  <thead>\n    <tr style=\"text-align: right;\">\n      <th></th>\n      <th>Unnamed: 0</th>\n      <th>Comment_text</th>\n      <th>Hateful_or_not</th>\n      <th>Platform</th>\n      <th>wordCount</th>\n      <th>uppercaseCounts</th>\n      <th>upperAvg</th>\n      <th>punctuations</th>\n      <th>punctuationAvg</th>\n      <th>numbers</th>\n      <th>numbersAvg</th>\n    </tr>\n  </thead>\n  <tbody>\n    <tr>\n      <th>0</th>\n      <td>0</td>\n      <td>this is disgusting and heartbreaking. they sho...</td>\n      <td>1</td>\n      <td>YouTube</td>\n      <td>65</td>\n      <td>0</td>\n      <td>0.000000</td>\n      <td>10</td>\n      <td>0.153846</td>\n      <td>1</td>\n      <td>0.015385</td>\n    </tr>\n    <tr>\n      <th>1</th>\n      <td>1</td>\n      <td>Fuck that cop. Nothing but a fucking thug. \\n\\...</td>\n      <td>1</td>\n      <td>YouTube</td>\n      <td>8</td>\n      <td>3</td>\n      <td>0.375000</td>\n      <td>2</td>\n      <td>0.250000</td>\n      <td>0</td>\n      <td>0.000000</td>\n    </tr>\n    <tr>\n      <th>2</th>\n      <td>2</td>\n      <td>Fucking piece of shit cops, protect and serve ...</td>\n      <td>1</td>\n      <td>YouTube</td>\n      <td>9</td>\n      <td>1</td>\n      <td>0.111111</td>\n      <td>1</td>\n      <td>0.111111</td>\n      <td>0</td>\n      <td>0.000000</td>\n    </tr>\n    <tr>\n      <th>3</th>\n      <td>3</td>\n      <td>Land of the free... My fucking ass. America is...</td>\n      <td>1</td>\n      <td>YouTube</td>\n      <td>39</td>\n      <td>3</td>\n      <td>0.076923</td>\n      <td>5</td>\n      <td>0.128205</td>\n      <td>0</td>\n      <td>0.000000</td>\n    </tr>\n    <tr>\n      <th>4</th>\n      <td>4</td>\n      <td>These fucking cops are out of control!</td>\n      <td>1</td>\n      <td>YouTube</td>\n      <td>6</td>\n      <td>1</td>\n      <td>0.166667</td>\n      <td>1</td>\n      <td>0.166667</td>\n      <td>0</td>\n      <td>0.000000</td>\n    </tr>\n    <tr>\n      <th>...</th>\n      <td>...</td>\n      <td>...</td>\n      <td>...</td>\n      <td>...</td>\n      <td>...</td>\n      <td>...</td>\n      <td>...</td>\n      <td>...</td>\n      <td>...</td>\n      <td>...</td>\n      <td>...</td>\n    </tr>\n    <tr>\n      <th>197561</th>\n      <td>197561</td>\n      <td>\"\\n\\n our previous conversation \\n\\nyou fuckin...</td>\n      <td>1</td>\n      <td>Wikipedia</td>\n      <td>269</td>\n      <td>22</td>\n      <td>0.081784</td>\n      <td>58</td>\n      <td>0.215613</td>\n      <td>0</td>\n      <td>0.000000</td>\n    </tr>\n    <tr>\n      <th>197562</th>\n      <td>197562</td>\n      <td>YOU ARE A MISCHIEVIOUS PUBIC HAIR</td>\n      <td>1</td>\n      <td>Wikipedia</td>\n      <td>6</td>\n      <td>28</td>\n      <td>4.666667</td>\n      <td>0</td>\n      <td>0.000000</td>\n      <td>0</td>\n      <td>0.000000</td>\n    </tr>\n    <tr>\n      <th>197563</th>\n      <td>197563</td>\n      <td>Your absurd edits \\n\\nYour absurd edits on gre...</td>\n      <td>1</td>\n      <td>Wikipedia</td>\n      <td>52</td>\n      <td>5</td>\n      <td>0.096154</td>\n      <td>6</td>\n      <td>0.115385</td>\n      <td>0</td>\n      <td>0.000000</td>\n    </tr>\n    <tr>\n      <th>197564</th>\n      <td>197564</td>\n      <td>\"\\n\\nHey listen don't you ever!!!! Delete my e...</td>\n      <td>1</td>\n      <td>Wikipedia</td>\n      <td>87</td>\n      <td>13</td>\n      <td>0.149425</td>\n      <td>30</td>\n      <td>0.344828</td>\n      <td>0</td>\n      <td>0.000000</td>\n    </tr>\n    <tr>\n      <th>197565</th>\n      <td>197565</td>\n      <td>and i'm going to keep posting the stuff u dele...</td>\n      <td>1</td>\n      <td>Wikipedia</td>\n      <td>33</td>\n      <td>0</td>\n      <td>0.000000</td>\n      <td>2</td>\n      <td>0.060606</td>\n      <td>0</td>\n      <td>0.000000</td>\n    </tr>\n  </tbody>\n</table>\n<p>197566 rows × 11 columns</p>\n</div>"
     },
     "execution_count": 1,
     "metadata": {},
     "output_type": "execute_result"
    }
   ],
   "source": [
    "import pandas as pd\n",
    "check=pd.read_csv(\"SimpleFeatures.csv\")\n",
    "check\n"
   ],
   "metadata": {
    "collapsed": false,
    "pycharm": {
     "name": "#%%\n"
    }
   }
  },
  {
   "cell_type": "code",
   "execution_count": 3,
   "outputs": [
    {
     "data": {
      "text/plain": "                                             Comment_text  Hateful_or_not  \\\n0       this is disgusting and heartbreaking. they sho...               1   \n1       Fuck that cop. Nothing but a fucking thug. \\n\\...               1   \n2       Fucking piece of shit cops, protect and serve ...               1   \n3       Land of the free... My fucking ass. America is...               1   \n4                  These fucking cops are out of control!               1   \n...                                                   ...             ...   \n197561  \"\\n\\n our previous conversation \\n\\nyou fuckin...               1   \n197562                  YOU ARE A MISCHIEVIOUS PUBIC HAIR               1   \n197563  Your absurd edits \\n\\nYour absurd edits on gre...               1   \n197564  \"\\n\\nHey listen don't you ever!!!! Delete my e...               1   \n197565  and i'm going to keep posting the stuff u dele...               1   \n\n         Platform  wordCount  uppercaseCounts  upperAvg  punctuations  \\\n0         YouTube         65                0  0.000000            10   \n1         YouTube          8                3  0.375000             2   \n2         YouTube          9                1  0.111111             1   \n3         YouTube         39                3  0.076923             5   \n4         YouTube          6                1  0.166667             1   \n...           ...        ...              ...       ...           ...   \n197561  Wikipedia        269               22  0.081784            58   \n197562  Wikipedia          6               28  4.666667             0   \n197563  Wikipedia         52                5  0.096154             6   \n197564  Wikipedia         87               13  0.149425            30   \n197565  Wikipedia         33                0  0.000000             2   \n\n        punctuationAvg  numbers  numbersAvg  \n0             0.153846        1    0.015385  \n1             0.250000        0    0.000000  \n2             0.111111        0    0.000000  \n3             0.128205        0    0.000000  \n4             0.166667        0    0.000000  \n...                ...      ...         ...  \n197561        0.215613        0    0.000000  \n197562        0.000000        0    0.000000  \n197563        0.115385        0    0.000000  \n197564        0.344828        0    0.000000  \n197565        0.060606        0    0.000000  \n\n[197566 rows x 10 columns]",
      "text/html": "<div>\n<style scoped>\n    .dataframe tbody tr th:only-of-type {\n        vertical-align: middle;\n    }\n\n    .dataframe tbody tr th {\n        vertical-align: top;\n    }\n\n    .dataframe thead th {\n        text-align: right;\n    }\n</style>\n<table border=\"1\" class=\"dataframe\">\n  <thead>\n    <tr style=\"text-align: right;\">\n      <th></th>\n      <th>Comment_text</th>\n      <th>Hateful_or_not</th>\n      <th>Platform</th>\n      <th>wordCount</th>\n      <th>uppercaseCounts</th>\n      <th>upperAvg</th>\n      <th>punctuations</th>\n      <th>punctuationAvg</th>\n      <th>numbers</th>\n      <th>numbersAvg</th>\n    </tr>\n  </thead>\n  <tbody>\n    <tr>\n      <th>0</th>\n      <td>this is disgusting and heartbreaking. they sho...</td>\n      <td>1</td>\n      <td>YouTube</td>\n      <td>65</td>\n      <td>0</td>\n      <td>0.000000</td>\n      <td>10</td>\n      <td>0.153846</td>\n      <td>1</td>\n      <td>0.015385</td>\n    </tr>\n    <tr>\n      <th>1</th>\n      <td>Fuck that cop. Nothing but a fucking thug. \\n\\...</td>\n      <td>1</td>\n      <td>YouTube</td>\n      <td>8</td>\n      <td>3</td>\n      <td>0.375000</td>\n      <td>2</td>\n      <td>0.250000</td>\n      <td>0</td>\n      <td>0.000000</td>\n    </tr>\n    <tr>\n      <th>2</th>\n      <td>Fucking piece of shit cops, protect and serve ...</td>\n      <td>1</td>\n      <td>YouTube</td>\n      <td>9</td>\n      <td>1</td>\n      <td>0.111111</td>\n      <td>1</td>\n      <td>0.111111</td>\n      <td>0</td>\n      <td>0.000000</td>\n    </tr>\n    <tr>\n      <th>3</th>\n      <td>Land of the free... My fucking ass. America is...</td>\n      <td>1</td>\n      <td>YouTube</td>\n      <td>39</td>\n      <td>3</td>\n      <td>0.076923</td>\n      <td>5</td>\n      <td>0.128205</td>\n      <td>0</td>\n      <td>0.000000</td>\n    </tr>\n    <tr>\n      <th>4</th>\n      <td>These fucking cops are out of control!</td>\n      <td>1</td>\n      <td>YouTube</td>\n      <td>6</td>\n      <td>1</td>\n      <td>0.166667</td>\n      <td>1</td>\n      <td>0.166667</td>\n      <td>0</td>\n      <td>0.000000</td>\n    </tr>\n    <tr>\n      <th>...</th>\n      <td>...</td>\n      <td>...</td>\n      <td>...</td>\n      <td>...</td>\n      <td>...</td>\n      <td>...</td>\n      <td>...</td>\n      <td>...</td>\n      <td>...</td>\n      <td>...</td>\n    </tr>\n    <tr>\n      <th>197561</th>\n      <td>\"\\n\\n our previous conversation \\n\\nyou fuckin...</td>\n      <td>1</td>\n      <td>Wikipedia</td>\n      <td>269</td>\n      <td>22</td>\n      <td>0.081784</td>\n      <td>58</td>\n      <td>0.215613</td>\n      <td>0</td>\n      <td>0.000000</td>\n    </tr>\n    <tr>\n      <th>197562</th>\n      <td>YOU ARE A MISCHIEVIOUS PUBIC HAIR</td>\n      <td>1</td>\n      <td>Wikipedia</td>\n      <td>6</td>\n      <td>28</td>\n      <td>4.666667</td>\n      <td>0</td>\n      <td>0.000000</td>\n      <td>0</td>\n      <td>0.000000</td>\n    </tr>\n    <tr>\n      <th>197563</th>\n      <td>Your absurd edits \\n\\nYour absurd edits on gre...</td>\n      <td>1</td>\n      <td>Wikipedia</td>\n      <td>52</td>\n      <td>5</td>\n      <td>0.096154</td>\n      <td>6</td>\n      <td>0.115385</td>\n      <td>0</td>\n      <td>0.000000</td>\n    </tr>\n    <tr>\n      <th>197564</th>\n      <td>\"\\n\\nHey listen don't you ever!!!! Delete my e...</td>\n      <td>1</td>\n      <td>Wikipedia</td>\n      <td>87</td>\n      <td>13</td>\n      <td>0.149425</td>\n      <td>30</td>\n      <td>0.344828</td>\n      <td>0</td>\n      <td>0.000000</td>\n    </tr>\n    <tr>\n      <th>197565</th>\n      <td>and i'm going to keep posting the stuff u dele...</td>\n      <td>1</td>\n      <td>Wikipedia</td>\n      <td>33</td>\n      <td>0</td>\n      <td>0.000000</td>\n      <td>2</td>\n      <td>0.060606</td>\n      <td>0</td>\n      <td>0.000000</td>\n    </tr>\n  </tbody>\n</table>\n<p>197566 rows × 10 columns</p>\n</div>"
     },
     "execution_count": 3,
     "metadata": {},
     "output_type": "execute_result"
    }
   ],
   "source": [
    "check=check.drop([\"Unnamed: 0\"],axis=1)\n",
    "check"
   ],
   "metadata": {
    "collapsed": false,
    "pycharm": {
     "name": "#%%\n"
    }
   }
  },
  {
   "cell_type": "code",
   "execution_count": 4,
   "outputs": [],
   "source": [
    "check.to_csv(\"SimpleFeatures.csv\",index=False)\n"
   ],
   "metadata": {
    "collapsed": false,
    "pycharm": {
     "name": "#%%\n"
    }
   }
  },
  {
   "cell_type": "code",
   "execution_count": null,
   "outputs": [],
   "source": [],
   "metadata": {
    "collapsed": false,
    "pycharm": {
     "name": "#%%\n"
    }
   }
  }
 ],
 "metadata": {
  "kernelspec": {
   "display_name": "Python 3",
   "language": "python",
   "name": "python3"
  },
  "language_info": {
   "codemirror_mode": {
    "name": "ipython",
    "version": 2
   },
   "file_extension": ".py",
   "mimetype": "text/x-python",
   "name": "python",
   "nbconvert_exporter": "python",
   "pygments_lexer": "ipython2",
   "version": "2.7.6"
  }
 },
 "nbformat": 4,
 "nbformat_minor": 0
}