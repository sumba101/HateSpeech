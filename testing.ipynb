{
 "cells": [
  {
   "cell_type": "code",
   "execution_count": 1,
   "metadata": {
    "collapsed": true
   },
   "outputs": [],
   "source": [
    "import pickle\n",
    "\n",
    "import pandas as pd\n",
    "from sklearn import feature_extraction, model_selection\n",
    "from sklearn.model_selection import train_test_split\n",
    "def save(name,obj):\n",
    "    with open(name,'wb') as f:\n",
    "        pickle.dump(obj,f)\n",
    "def load(name):\n",
    "    with open(name,'rb') as f:\n",
    "        return pickle.load(f)\n",
    "\n",
    "df = pd.read_csv( \"trainingSet.csv\" )\n",
    "X = df[\"clean_text\"]\n",
    "Y = df[\"Hateful_or_not\"]"
   ]
  },
  {
   "cell_type": "code",
   "execution_count": 2,
   "outputs": [
    {
     "data": {
      "text/plain": "CountVectorizer(ngram_range=(1, 2))"
     },
     "execution_count": 2,
     "metadata": {},
     "output_type": "execute_result"
    }
   ],
   "source": [
    "vectorizer = feature_extraction.text.CountVectorizer( ngram_range=(1, 2) )\n",
    "vectorizer.fit(X)"
   ],
   "metadata": {
    "collapsed": false,
    "pycharm": {
     "name": "#%%\n"
    }
   }
  },
  {
   "cell_type": "code",
   "execution_count": 3,
   "outputs": [],
   "source": [
    "save(\"BOW\",vectorizer)"
   ],
   "metadata": {
    "collapsed": false,
    "pycharm": {
     "name": "#%%\n"
    }
   }
  },
  {
   "cell_type": "code",
   "execution_count": 7,
   "outputs": [
    {
     "data": {
      "text/plain": "                                        Comment_text  Hateful_or_not Platform\n0  this is disgusting and heartbreaking. they sho...               1  YouTube\n1  Fuck that cop. Nothing but a fucking thug. \\n\\...               1  YouTube\n2  Fucking piece of shit cops, protect and serve ...               1  YouTube\n3  Land of the free... My fucking ass. America is...               1  YouTube\n4             These fucking cops are out of control!               1  YouTube",
      "text/html": "<div>\n<style scoped>\n    .dataframe tbody tr th:only-of-type {\n        vertical-align: middle;\n    }\n\n    .dataframe tbody tr th {\n        vertical-align: top;\n    }\n\n    .dataframe thead th {\n        text-align: right;\n    }\n</style>\n<table border=\"1\" class=\"dataframe\">\n  <thead>\n    <tr style=\"text-align: right;\">\n      <th></th>\n      <th>Comment_text</th>\n      <th>Hateful_or_not</th>\n      <th>Platform</th>\n    </tr>\n  </thead>\n  <tbody>\n    <tr>\n      <th>0</th>\n      <td>this is disgusting and heartbreaking. they sho...</td>\n      <td>1</td>\n      <td>YouTube</td>\n    </tr>\n    <tr>\n      <th>1</th>\n      <td>Fuck that cop. Nothing but a fucking thug. \\n\\...</td>\n      <td>1</td>\n      <td>YouTube</td>\n    </tr>\n    <tr>\n      <th>2</th>\n      <td>Fucking piece of shit cops, protect and serve ...</td>\n      <td>1</td>\n      <td>YouTube</td>\n    </tr>\n    <tr>\n      <th>3</th>\n      <td>Land of the free... My fucking ass. America is...</td>\n      <td>1</td>\n      <td>YouTube</td>\n    </tr>\n    <tr>\n      <th>4</th>\n      <td>These fucking cops are out of control!</td>\n      <td>1</td>\n      <td>YouTube</td>\n    </tr>\n  </tbody>\n</table>\n</div>"
     },
     "execution_count": 7,
     "metadata": {},
     "output_type": "execute_result"
    }
   ],
   "source": [
    "import pandas as pd\n",
    "from sklearn.model_selection import train_test_split\n",
    "df=pd.read_csv(\"Datasets/fulldataset.csv\",sep=';')\n",
    "df.head()"
   ],
   "metadata": {
    "collapsed": false,
    "pycharm": {
     "name": "#%%\n"
    }
   }
  },
  {
   "cell_type": "code",
   "execution_count": 8,
   "outputs": [
    {
     "data": {
      "text/plain": "0    this is disgusting and heartbreaking. they sho...\n1    Fuck that cop. Nothing but a fucking thug. \\n\\...\n2    Fucking piece of shit cops, protect and serve ...\n3    Land of the free... My fucking ass. America is...\n4               These fucking cops are out of control!\nName: Comment_text, dtype: object"
     },
     "execution_count": 8,
     "metadata": {},
     "output_type": "execute_result"
    }
   ],
   "source": [
    "X_train, X_test, y_train, y_test = train_test_split(df.Comment_text, df.Hateful_or_not, test_size=0.30,shuffle=False)\n",
    "X_train.head()"
   ],
   "metadata": {
    "collapsed": false,
    "pycharm": {
     "name": "#%%\n"
    }
   }
  },
  {
   "cell_type": "code",
   "execution_count": null,
   "outputs": [],
   "source": [],
   "metadata": {
    "collapsed": false,
    "pycharm": {
     "name": "#%%\n"
    }
   }
  }
 ],
 "metadata": {
  "kernelspec": {
   "display_name": "Python 3",
   "language": "python",
   "name": "python3"
  },
  "language_info": {
   "codemirror_mode": {
    "name": "ipython",
    "version": 2
   },
   "file_extension": ".py",
   "mimetype": "text/x-python",
   "name": "python",
   "nbconvert_exporter": "python",
   "pygments_lexer": "ipython2",
   "version": "2.7.6"
  }
 },
 "nbformat": 4,
 "nbformat_minor": 0
}